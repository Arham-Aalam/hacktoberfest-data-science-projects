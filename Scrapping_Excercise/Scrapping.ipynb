{
 "cells": [
  {
   "cell_type": "code",
   "execution_count": 0,
   "metadata": {
    "colab": {},
    "colab_type": "code",
    "id": "-psr_dkKGkaI"
   },
   "outputs": [],
   "source": [
    "import requests"
   ]
  },
  {
   "cell_type": "code",
   "execution_count": 0,
   "metadata": {
    "colab": {},
    "colab_type": "code",
    "id": "u3IbRBsxJ62I"
   },
   "outputs": [],
   "source": [
    "page = requests.get('https://www.parentune.com/baby-names')"
   ]
  },
  {
   "cell_type": "code",
   "execution_count": 0,
   "metadata": {
    "colab": {},
    "colab_type": "code",
    "id": "-tVTQq5XKyx1"
   },
   "outputs": [],
   "source": [
    "page.text"
   ]
  },
  {
   "cell_type": "code",
   "execution_count": 0,
   "metadata": {
    "colab": {},
    "colab_type": "code",
    "id": "6EK4_4ojK4j8"
   },
   "outputs": [],
   "source": [
    "from bs4 import BeautifulSoup"
   ]
  },
  {
   "cell_type": "code",
   "execution_count": 0,
   "metadata": {
    "colab": {},
    "colab_type": "code",
    "id": "8zMEUlXbLqpy"
   },
   "outputs": [],
   "source": [
    "bs = BeautifulSoup(page.text)"
   ]
  },
  {
   "cell_type": "code",
   "execution_count": 0,
   "metadata": {
    "colab": {},
    "colab_type": "code",
    "id": "fM8lPentMcFI"
   },
   "outputs": [],
   "source": [
    "tables = bs.find_all('table')"
   ]
  },
  {
   "cell_type": "code",
   "execution_count": 0,
   "metadata": {
    "colab": {},
    "colab_type": "code",
    "id": "kASh5t9HMdOg"
   },
   "outputs": [],
   "source": [
    "table = tables[0]"
   ]
  },
  {
   "cell_type": "code",
   "execution_count": 0,
   "metadata": {
    "colab": {},
    "colab_type": "code",
    "id": "uUGvi9G2Of4p"
   },
   "outputs": [],
   "source": [
    "trs = table.find_all('tr')"
   ]
  },
  {
   "cell_type": "code",
   "execution_count": 0,
   "metadata": {
    "colab": {
     "base_uri": "https://localhost:8080/",
     "height": 223
    },
    "colab_type": "code",
    "id": "GDZ5AyrBPLtH",
    "outputId": "4d7f52ee-df06-4d21-e901-1928cf649608"
   },
   "outputs": [
    {
     "name": "stdout",
     "output_type": "stream",
     "text": [
      "\n",
      "            Gender\n",
      "        \n",
      "\n",
      "            Names\n",
      "        \n",
      "\n",
      "            Meaning\n",
      "        \n",
      "\n",
      "            Favourites\n",
      "        \n"
     ]
    }
   ],
   "source": [
    "for th in trs[0].find_all('th'):\n",
    "    print(th.get_text())"
   ]
  },
  {
   "cell_type": "code",
   "execution_count": 0,
   "metadata": {
    "colab": {
     "base_uri": "https://localhost:8080/",
     "height": 1000
    },
    "colab_type": "code",
    "id": "BcqxbOdhRVyG",
    "outputId": "ba7a774a-277c-4fab-e33a-d381742bb082"
   },
   "outputs": [
    {
     "name": "stdout",
     "output_type": "stream",
     "text": [
      "name: \n",
      "A'dab\n",
      "\n",
      "meaning: \n",
      "            the person who brings hope to the family\n",
      "        \n",
      "name: \n",
      "A'idah\n",
      "\n",
      "meaning: \n",
      "            Something of value given in return of some thing good, Rewar...\n",
      "        \n",
      "name: \n",
      "A'ishah\n",
      "\n",
      "meaning: \n",
      "            the one who is characterized by success  or having favorable...\n",
      "        \n",
      "name: \n",
      "Aa'idah\n",
      "\n",
      "meaning: \n",
      "            Name of a female narrator of Hadith.\n",
      "        \n",
      "name: \n",
      "Aaaqil\n",
      "\n",
      "meaning: \n",
      "            One who is wise and intelligent.\n",
      "        \n",
      "name: \n",
      "Aaarabisk\n",
      "\n",
      "meaning: \n",
      "            A person who is wishful and healthy\n",
      "        \n",
      "name: \n",
      "Aaban\n",
      "\n",
      "meaning: \n",
      "            Name of the Angel,  8th Persian month,  angel of iron,  name...\n",
      "        \n",
      "name: \n",
      "Aabdar\n",
      "\n",
      "meaning: \n",
      "            Name aabdar has a quranic origin which means Moon light,   e...\n",
      "        \n",
      "name: \n",
      "Aabdeen\n",
      "\n",
      "meaning: \n",
      "            Worshipper\n",
      "        \n",
      "name: \n",
      "Aabha\n",
      "\n",
      "meaning: \n",
      "            Glow; Splendour; Light; Brilliance; Bright and Radiant; Glor...\n",
      "        \n",
      "name: \n",
      "Aabharan\n",
      "\n",
      "meaning: \n",
      "            means jewel, a variant form of name Abharan which means jewe...\n",
      "        \n",
      "name: \n",
      "Aabhas\n",
      "\n",
      "meaning: \n",
      "            Sense or Feelings, has a Sanskrit meaning as realization\n",
      "        \n",
      "name: \n",
      "Aabhass\n",
      "\n",
      "meaning: \n",
      "            Awareness; A variant name of Abhas which means realization\n",
      "        \n",
      "name: \n",
      "Aabhavannan\n",
      "\n",
      "meaning: \n",
      "            Light; also means torch bearer who brings light\n",
      "        \n",
      "name: \n",
      "Aabheer\n",
      "\n",
      "meaning: \n",
      "            means a Cow-herd in Sanskrit, it also means one who is fearl...\n",
      "        \n",
      "name: \n",
      "Aabher\n",
      "\n",
      "meaning: \n",
      "            means a Cow-herd and is variant form of name Aabheer\n",
      "        \n",
      "name: \n",
      "Aabid\n",
      "\n",
      "meaning: \n",
      "            The word aabid means powerful,  complete,  worshipper of all...\n",
      "        \n",
      "name: \n",
      "Aabida\n",
      "\n",
      "meaning: \n",
      "            This can be the female case of name aabid,  it means Worship...\n",
      "        \n",
      "name: \n",
      "Aabidah\n",
      "\n",
      "meaning: \n",
      "            Worshipper\n",
      "        \n",
      "name: \n",
      "Aabideen\n",
      "\n",
      "meaning: \n",
      "            Zainul abidin is a Islam name for baby Boy and meaning is Or...\n",
      "        \n"
     ]
    }
   ],
   "source": [
    "for tr in trs[1:]:\n",
    "    td_name = tr.find_all('td')[1]\n",
    "    td_meaning = tr.find_all('td')[2]\n",
    "    print('name:', td_name.get_text())\n",
    "    print('meaning:', td_meaning.get_text())"
   ]
  },
  {
   "cell_type": "code",
   "execution_count": 0,
   "metadata": {
    "colab": {
     "base_uri": "https://localhost:8080/",
     "height": 1000
    },
    "colab_type": "code",
    "id": "SmAPQM0FQDfs",
    "outputId": "da2dcb34-7bb2-4673-c215-c3e3328fc00a"
   },
   "outputs": [
    {
     "name": "stdout",
     "output_type": "stream",
     "text": [
      "['', 'showLoader']\n",
      "['', 'showLoader']\n",
      "['showLoader']\n",
      "['showLoader']\n",
      "['showLoader']\n",
      "['showLoader']\n",
      "['showLoader']\n",
      "['showLoader']\n",
      "['showLoader']\n",
      "['showLoader']\n",
      "['showLoader']\n",
      "['showLoader']\n",
      "['', 'showLoader']\n",
      "['', 'showLoader']\n",
      "['showLoader']\n",
      "['showLoader']\n",
      "['showLoader']\n",
      "['showLoader']\n",
      "['showLoader']\n",
      "['showLoader']\n",
      "['showLoader']\n",
      "['showLoader']\n",
      "['showLoader']\n",
      "['showLoader']\n",
      "['showLoader']\n",
      "['showLoader']\n",
      "['', 'showLoader']\n",
      "['', 'showLoader']\n",
      "['', 'showLoader']\n",
      "['', 'showLoader']\n",
      "['', 'showLoader']\n",
      "['', 'showLoader']\n",
      "['', 'showLoader']\n",
      "['']\n",
      "['']\n",
      "['active']\n",
      "['', 'showLoader']\n",
      "['', 'showLoader']\n",
      "['', 'showLoader']\n",
      "['', 'showLoader']\n",
      "['', 'showLoader']\n",
      "['', 'showLoader']\n",
      "['', 'showLoader']\n",
      "['genderFilterButton']\n",
      "['genderFilterButton']\n",
      "['originFilterButton']\n",
      "['originFilterButton']\n",
      "['originFilterButton']\n",
      "['originFilterButton']\n",
      "['alphabetFilterButton', 'internal']\n",
      "['alphabetFilterButton', 'internal']\n",
      "['alphabetFilterButton', 'internal']\n",
      "['alphabetFilterButton', 'internal']\n",
      "['alphabetFilterButton', 'internal']\n",
      "['alphabetFilterButton', 'internal']\n",
      "['alphabetFilterButton', 'internal']\n",
      "['alphabetFilterButton', 'internal']\n",
      "['alphabetFilterButton', 'internal']\n",
      "['alphabetFilterButton', 'internal']\n",
      "['alphabetFilterButton', 'internal']\n",
      "['alphabetFilterButton', 'internal']\n",
      "['alphabetFilterButton', 'internal']\n",
      "['alphabetFilterButton', 'internal']\n",
      "['alphabetFilterButton', 'internal']\n",
      "['alphabetFilterButton', 'internal']\n",
      "['alphabetFilterButton', 'internal']\n",
      "['alphabetFilterButton', 'internal']\n",
      "['alphabetFilterButton', 'internal']\n",
      "['alphabetFilterButton', 'internal']\n",
      "['alphabetFilterButton', 'internal']\n",
      "['alphabetFilterButton', 'internal']\n",
      "['alphabetFilterButton', 'internal']\n",
      "['alphabetFilterButton', 'internal']\n",
      "['alphabetFilterButton', 'internal']\n",
      "['alphabetFilterButton', 'internal']\n",
      "['btnStyleBig', 'btnStyle']\n",
      "['active']\n",
      "['scroll-top-arrow']\n",
      "['btnStyle', 'mB10', 'width100', 'disabled', 'veracLabel']\n",
      "['btnStyle', 'mB10', 'width100', 'veracLabel']\n",
      "['loginButton', 'blue', 'facebook', 'fleft', 'veracLabel']\n",
      "['loginButton', 'blue', 'fRight', 'gmailColor', 'veracLabel']\n",
      "['mL5']\n",
      "['link', 'showLoader']\n",
      "['link', 'showLoader']\n",
      "['link', 'showLoader']\n",
      "['link', 'showLoader']\n",
      "['link', 'showLoader']\n",
      "['link', 'showLoader']\n",
      "['link', 'showLoader']\n",
      "['link', 'showLoader']\n",
      "['link', 'showLoader']\n",
      "['link', 'showLoader']\n",
      "['link', 'showLoader']\n",
      "['link', 'showLoader']\n",
      "['link', 'showLoader']\n",
      "['link', 'showLoader']\n",
      "['link', 'showLoader']\n",
      "['link', 'showLoader']\n",
      "['link', 'showLoader']\n",
      "['link', 'showLoader']\n",
      "['link', 'showLoader']\n",
      "['link', 'showLoader']\n",
      "['link', 'showLoader']\n",
      "['link', 'showLoader']\n",
      "['link', 'showLoader']\n",
      "['link', 'showLoader']\n",
      "['link', 'showLoader']\n",
      "['link', 'showLoader']\n",
      "['link', 'showLoader']\n",
      "['link', 'showLoader']\n",
      "['link', 'showLoader']\n",
      "['link', 'showLoader']\n",
      "['link', 'showLoader']\n",
      "['link', 'showLoader']\n",
      "['link', 'showLoader']\n",
      "['link', 'showLoader']\n",
      "['link', 'showLoader']\n",
      "['link', 'showLoader']\n",
      "['link', 'showLoader']\n",
      "['link', 'showLoader']\n",
      "['link', 'showLoader']\n",
      "['link', 'showLoader']\n",
      "['link', 'showLoader']\n",
      "['link', 'showLoader']\n",
      "['link', 'showLoader']\n",
      "['link', 'showLoader']\n",
      "['link', 'showLoader']\n",
      "['link', 'showLoader']\n",
      "['link', 'showLoader']\n",
      "['link', 'showLoader']\n",
      "['link', 'showLoader']\n",
      "['link', 'showLoader']\n",
      "['link', 'showLoader']\n",
      "['link', 'showLoader']\n",
      "['link', 'showLoader']\n",
      "['link', 'showLoader']\n",
      "['link', 'showLoader']\n",
      "['link', 'showLoader']\n",
      "['link', 'showLoader']\n",
      "['link', 'showLoader']\n",
      "['link', 'showLoader']\n",
      "['link', 'showLoader']\n",
      "['link', 'showLoader']\n",
      "['link', 'showLoader']\n",
      "['link', 'showLoader']\n",
      "['link', 'showLoader']\n",
      "['link', 'showLoader']\n",
      "['link', 'showLoader']\n",
      "['link']\n",
      "['link']\n",
      "['link']\n",
      "['']\n",
      "['small', 'cli-plugin-button', 'cli-plugin-main-button']\n"
     ]
    }
   ],
   "source": [
    "# <a href=\"link\">ashwin</a>\n",
    "\n",
    "for a in bs.find_all('a', href=True, class_=True):\n",
    "    print(a['class'])"
   ]
  },
  {
   "cell_type": "code",
   "execution_count": 0,
   "metadata": {
    "colab": {},
    "colab_type": "code",
    "id": "BlvgPpTDVf7q"
   },
   "outputs": [],
   "source": []
  }
 ],
 "metadata": {
  "colab": {
   "name": "datascience_day_1.ipynb",
   "provenance": []
  },
  "kernelspec": {
   "display_name": "Python 2",
   "language": "python",
   "name": "python2"
  },
  "language_info": {
   "codemirror_mode": {
    "name": "ipython",
    "version": 2
   },
   "file_extension": ".py",
   "mimetype": "text/x-python",
   "name": "python",
   "nbconvert_exporter": "python",
   "pygments_lexer": "ipython2",
   "version": "2.7.16"
  }
 },
 "nbformat": 4,
 "nbformat_minor": 1
}
